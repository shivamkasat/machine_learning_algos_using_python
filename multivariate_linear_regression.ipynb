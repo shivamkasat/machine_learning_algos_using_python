{
 "cells": [
  {
   "cell_type": "code",
   "execution_count": 1,
   "metadata": {},
   "outputs": [],
   "source": [
    "import csv\n",
    "import pandas as pd \n",
    "import numpy as np\n",
    "import matplotlib.pyplot as plt"
   ]
  },
  {
   "cell_type": "code",
   "execution_count": 2,
   "metadata": {},
   "outputs": [],
   "source": [
    "#open the fie using panda library\n",
    "#code for uploading excel sheet in the list\n",
    "\n",
    "file_errors_location = '/home/kasat/startups.csv'\n",
    "df = pd.read_csv(file_errors_location)\n",
    "\n",
    "#print(df)"
   ]
  },
  {
   "cell_type": "code",
   "execution_count": 3,
   "metadata": {},
   "outputs": [],
   "source": [
    "#now we want to handle the missing value we just replace it by its column mean\n",
    "#dataset = read_csv('pima-indians-diabetes.csv', header=None)\n",
    "# mark zero values as missing or NaN\n",
    "\n",
    "df = df.replace(0, np.NaN)\n",
    "\n",
    "# fill missing values with mean column values\n",
    "\n",
    "df.fillna(df.mean(), inplace=True)\n",
    "\n",
    "# count the number of NaN values in each column\n",
    "#print(df.isnull().sum())\n",
    "#print(df)"
   ]
  },
  {
   "cell_type": "code",
   "execution_count": 4,
   "metadata": {},
   "outputs": [],
   "source": [
    "#how to find the datatype of data set in python\n",
    "\n",
    "df.dtypes\n",
    "df2 = df.loc[:,'State']\n",
    "\n",
    "#print(df2)"
   ]
  },
  {
   "cell_type": "code",
   "execution_count": 5,
   "metadata": {},
   "outputs": [],
   "source": [
    "#one hot encoding technique\n",
    "\n",
    "one_hot= pd.get_dummies(df2)\n",
    "\n",
    "#print(one_hot)\n",
    "#apend both the data set df and df2 \n",
    "#new_data = pd.merge([df,df2]\n",
    "\n",
    "new_data= pd.concat([df,one_hot],axis=1)\n",
    "\n",
    "#delete the state data\n",
    "\n",
    "del new_data['State']\n",
    "\n",
    "#print(new_data)"
   ]
  },
  {
   "cell_type": "code",
   "execution_count": 6,
   "metadata": {},
   "outputs": [
    {
     "name": "stdout",
     "output_type": "stream",
     "text": [
      "(50, 6)\n"
     ]
    }
   ],
   "source": [
    "#now convert this new_data into array x,theta etc.\n",
    "\n",
    "x = np.array(new_data)\n",
    "\n",
    "#add 1 in x matrix\n",
    "\n",
    "x = np.insert(x, 0, values=1, axis=1) # Insert values before column 0\n",
    "for i in range(1, 8):\n",
    "    x[:,i] = (x[:,i] - np.mean( x[:,i])) / (np.max(x[:,i] - np.min(x[:,i])))\n",
    "\n",
    "#print(x)\n",
    "\n",
    "y = np.array(x)\n",
    "y = y[:,[4]]\n",
    "\n",
    "x = np.delete(x, 4, 1)\n",
    "x = np.delete(x,6,1)\n",
    "\n",
    "#print(y.shape)\n",
    "print(x.shape)\n",
    "#print(x)"
   ]
  },
  {
   "cell_type": "markdown",
   "metadata": {},
   "source": [
    "# Gradient Descent of Linear Regression"
   ]
  },
  {
   "cell_type": "code",
   "execution_count": 7,
   "metadata": {},
   "outputs": [
    {
     "name": "stdout",
     "output_type": "stream",
     "text": [
      "[[-7.68385355e-17  5.95463246e-01  4.48280829e-02  2.35659638e-01\n",
      "  -2.77221022e-02  4.16943156e-03]]\n",
      "cost for alpha = 0.005\n",
      "0.00506287523804993\n",
      "cost for alpha = 0.01\n",
      "0.005001483621051977\n"
     ]
    },
    {
     "data": {
      "image/png": "[encoded data removed]",
      "text/plain": [
       "<Figure size 432x288 with 1 Axes>"
      ]
     },
     "metadata": {
      "needs_background": "light"
     },
     "output_type": "display_data"
    },
    {
     "data": {
      "image/png": "[encoded data removed]",
      "text/plain": [
       "<Figure size 432x288 with 1 Axes>"
      ]
     },
     "metadata": {
      "needs_background": "light"
     },
     "output_type": "display_data"
    }
   ],
   "source": [
    "#apply the gradient decent in the x and y\n",
    "alpha = 0.005\n",
    "alpha_1 = 0.01\n",
    "theta = np.zeros([1,6])\n",
    "m = 50\n",
    "iters = 15000\n",
    "\n",
    "def computeCost(x,y,theta):\n",
    "    sum1 = (y-(np.dot(x,theta.T)))**2\n",
    "    return np.sum(sum1)/(2*m)\n",
    "\n",
    "def gradientDescent(x,y,theta,iters,alpha):\n",
    "    cost = np.zeros(iters)\n",
    "    grad_list = []\n",
    "    for i in range(iters):\n",
    "        grad = 1/m*(np.array(np.sum(x *((np.dot(x,theta.T)) - y),axis = 0)))\n",
    "        grad_list.append(grad)\n",
    "        theta = theta - (alpha) * grad\n",
    "        cost[i] = computeCost(x, y, theta)\n",
    "    return theta,cost,grad_list\n",
    "\n",
    "g,cost,grad_list = gradientDescent(x,y,theta,iters,alpha)\n",
    "g1,cost1,grad_list1 = gradientDescent(x,y,theta,iters,alpha_1)\n",
    "print(g)\n",
    "grad_list = np.array(grad_list)\n",
    "\n",
    "print(\"cost for alpha = 0.005\")\n",
    "print(cost[-1])\n",
    "print(\"cost for alpha = 0.01\")\n",
    "print(cost1[-1])\n",
    "\n",
    "plt.xlabel('No. of iterations')\n",
    "plt.ylabel('Cost')\n",
    "plt.plot([alpha,alpha_1],[cost[-1],cost1[-1]])\n",
    "plt.axis([0.0040, 0.0060, 0.004, 0.1])\n",
    "plt.show()\n",
    "\n",
    "\n",
    "x = [alpha,alpha_1] \n",
    "# corresponding y axis values \n",
    "y = [cost[-1],cost1[-1]] \n",
    "plt.ylim(1,8) \n",
    "plt.xlim(1,0.)   \n",
    "# plotting the points  \n",
    "plt.plot(x, y, color='green', linestyle='dashed', linewidth = 3, \n",
    "         marker='o', markerfacecolor='blue', markersize=12) \n",
    "\n",
    "plt.title('Gradient vs iterations')\n",
    "plt.xlabel('No. of iterations')\n",
    "plt.ylabel('Gradient')\n",
    "plt.plot(grad_list[:,0], label=\"W0\")\n",
    "plt.plot(grad_list[:,1], label=\"W1\")\n",
    "plt.plot(grad_list[:,2], label=\"W2\")\n",
    "plt.plot(grad_list[:,3], label=\"W3\")\n",
    "plt.plot(grad_list[:,4], label=\"W4\")\n",
    "plt.plot(grad_list[:,5], label=\"W5\")\n",
    "plt.legend()\n",
    "plt.show()"
   ]
  },
  {
   "cell_type": "code",
   "execution_count": null,
   "metadata": {},
   "outputs": [],
   "source": []
  },
  {
   "cell_type": "code",
   "execution_count": 8,
   "metadata": {},
   "outputs": [
    {
     "ename": "ValueError",
     "evalue": "matmul: Input operand 1 has a mismatch in its core dimension 0, with gufunc signature (n?,k),(k,m?)->(n?,m?) (size 6 is different from 2)",
     "output_type": "error",
     "traceback": [
      "\u001b[0;31m---------------------------------------------------------------------------\u001b[0m",
      "\u001b[0;31mValueError\u001b[0m                                Traceback (most recent call last)",
      "\u001b[0;32m<ipython-input-8-12073e836766>\u001b[0m in \u001b[0;36m<module>\u001b[0;34m\u001b[0m\n\u001b[0;32m----> 1\u001b[0;31m \u001b[0mh1\u001b[0m \u001b[0;34m=\u001b[0m \u001b[0mnp\u001b[0m\u001b[0;34m.\u001b[0m\u001b[0mmatmul\u001b[0m\u001b[0;34m(\u001b[0m\u001b[0mx\u001b[0m\u001b[0;34m,\u001b[0m\u001b[0mg\u001b[0m\u001b[0;34m.\u001b[0m\u001b[0mT\u001b[0m\u001b[0;34m)\u001b[0m\u001b[0;34m\u001b[0m\u001b[0;34m\u001b[0m\u001b[0m\n\u001b[0m\u001b[1;32m      2\u001b[0m \u001b[0mplt\u001b[0m\u001b[0;34m.\u001b[0m\u001b[0mplot\u001b[0m\u001b[0;34m(\u001b[0m\u001b[0my\u001b[0m\u001b[0;34m,\u001b[0m\u001b[0;34m'r'\u001b[0m\u001b[0;34m)\u001b[0m\u001b[0;34m\u001b[0m\u001b[0;34m\u001b[0m\u001b[0m\n\u001b[1;32m      3\u001b[0m \u001b[0mplt\u001b[0m\u001b[0;34m.\u001b[0m\u001b[0mplot\u001b[0m\u001b[0;34m(\u001b[0m\u001b[0mh1\u001b[0m\u001b[0;34m,\u001b[0m\u001b[0;34m'g'\u001b[0m\u001b[0;34m)\u001b[0m\u001b[0;34m\u001b[0m\u001b[0;34m\u001b[0m\u001b[0m\n",
      "\u001b[0;31mValueError\u001b[0m: matmul: Input operand 1 has a mismatch in its core dimension 0, with gufunc signature (n?,k),(k,m?)->(n?,m?) (size 6 is different from 2)"
     ]
    }
   ],
   "source": [
    "h1 = np.matmul(x,g.T)\n",
    "plt.plot(y,'r')\n",
    "plt.plot(h1,'g')"
   ]
  },
  {
   "cell_type": "code",
   "execution_count": null,
   "metadata": {},
   "outputs": [],
   "source": [
    "grad_list[:,2]"
   ]
  },
  {
   "cell_type": "markdown",
   "metadata": {},
   "source": [
    "# RIGID REGRESSION"
   ]
  },
  {
   "cell_type": "code",
   "execution_count": null,
   "metadata": {},
   "outputs": [],
   "source": [
    "alpha = 0.005\n",
    "alpha_1 = 0.01\n",
    "lambda_1 = 0.01\n",
    "iters = 4000\n",
    "theta = np.zeros([1,6])\n",
    "m = 50\n",
    "\n",
    "def computecost(x,y,theta,lambda_1):\n",
    "    sum1 = np.power((np.dot(x,theta.T) - y),2)\n",
    "    sum2 = np.dot(theta,theta.T)\n",
    "    return np.sum(sum1)/(2 * m) + (lambda_1 * sum2)/(2*m)\n",
    "\n",
    "def gradientDescent(x,y,theta,iters,alpha,lambda_1):\n",
    "    cost = np.zeros(iters)\n",
    "    grad_list = []\n",
    "    for i in range(iters):\n",
    "        s_theta = np.sum(theta)\n",
    "        q = np.sum(np.dot((np.dot(x,theta.T) - y).T,x),axis=0)\n",
    "        grad = (q + lambda_1 * s_theta)\n",
    "        grad_list.append(grad)\n",
    "        #q = np.dot((np.dot(x,theta.T)-y).T,x)\n",
    "        #print(q+lambda_1*s_theta)\n",
    "        theta = theta - (alpha/m) * (q + lambda_1 * s_theta)\n",
    "        #theta = theta - (alpha /m) * (np.sum(x *((np.dot(x,theta.T)) - y),axis = 0) + (lambda_1 * s_theta))\n",
    "        cost[i] = computecost(x,y,theta,lambda_1)\n",
    "        \n",
    "    return theta,cost\n",
    "\n",
    "g,cost = gradientDescent(x,y,theta,iters,alpha_1,lambda_1)\n",
    "#g1,cost1 = gradientDescent(x,y,theta,iters,alpha_1,lambda_1)\n",
    "      \n",
    "print(\"cost for alpha = 0.005\")\n",
    "print(cost[-1])\n",
    "print(\"cost for alpha = 0.01\")\n",
    "#print(cost1[-1])\n",
    "\n",
    "plt.xlabel('No. of iterations')\n",
    "plt.ylabel('Cost')\n",
    "plt.plot(cost)\n",
    "plt.figure()\n",
    "#plt.xlabel('No. of iterations')\n",
    "#plt.ylabel('Cost')\n",
    "#plt.plot(cost1)\n",
    "\n",
    "plt.title('Gradient vs iterations')\n",
    "plt.xlabel('No. of iterations')\n",
    "plt.ylabel('Gradient')\n",
    "plt.plot(grad_list[:,0], label=\"W0\")\n",
    "plt.plot(grad_list[:,1], label=\"W1\")\n",
    "plt.plot(grad_list[:,2], label=\"W2\")\n",
    "plt.plot(grad_list[:,3], label=\"W3\")\n",
    "plt.plot(grad_list[:,4], label=\"W4\")\n",
    "plt.plot(grad_list[:,5], label=\"W5\")\n",
    "plt.legend()\n",
    "plt.show()\n",
    "    "
   ]
  },
  {
   "cell_type": "markdown",
   "metadata": {},
   "source": [
    "# LASSO REGRESSION"
   ]
  },
  {
   "cell_type": "code",
   "execution_count": null,
   "metadata": {},
   "outputs": [],
   "source": [
    "alpha=0.005\n",
    "alpha_1 = 0.01\n",
    "iters=250\n",
    "lambda1=.05\n",
    "theta = np.zeros([1,6])\n",
    "\n",
    "def computeCost(x,y,theta):\n",
    "    sum1 = np.power(((np.dot(x,theta.T))-y),2)\n",
    "    sum2 = np.abs(theta)\n",
    "    return (np.sum(sum1)+(lambda1*(np.sum(sum2))))/(2*m)\n",
    "\n",
    "def gradientDescent(x,y,theta,iters,alpha,lambda1):\n",
    "    cost = np.zeros(iters)\n",
    "    grad_list = []\n",
    "    for i in range(iters):\n",
    "        grad = ( np.sum(x * ((np.matmul(x,theta.T)) - y),axis=0)+(2*lambda1*np.sum(np.sign(theta))))\n",
    "        grad_list.append(grad)\n",
    "        theta = theta - (alpha/2) * grad\n",
    "        cost[i] = computeCost(x, y, theta)\n",
    "    \n",
    "    return theta,cost\n",
    "\n",
    "g,cost = gradientDescent(x,y,theta,iters,alpha_1,lambda1)\n",
    "#g1,cost1 = gradientDescent(x,y,theta,iters,alpha_1,lambda1)\n",
    "\n",
    "#print(g)\n",
    "#print(cost)\n",
    "\n",
    "print(\"cost for alpha = 0.005\")\n",
    "print(cost[-1])\n",
    "print(\"cost for alpha = 0.01\")\n",
    "#print(cost1[-1])\n",
    "\n",
    "plt.xlabel('No. of iterations')\n",
    "plt.ylabel('Cost')\n",
    "plt.plot(cost)\n",
    "plt.figure()\n",
    "#plt.xlabel('No. of iterations')\n",
    "#plt.ylabel('Cost1')\n",
    "# plt.plot(cost1)\n",
    "\n",
    "plt.title('Gradient vs iterations')\n",
    "plt.xlabel('No. of iterations')\n",
    "plt.ylabel('Gradient')\n",
    "plt.plot(grad_list[:,0], label=\"W0\")\n",
    "plt.plot(grad_list[:,1], label=\"W1\")\n",
    "plt.plot(grad_list[:,2], label=\"W2\")\n",
    "plt.plot(grad_list[:,3], label=\"W3\")\n",
    "plt.plot(grad_list[:,4], label=\"W4\")\n",
    "plt.plot(grad_list[:,5], label=\"W5\")\n",
    "plt.legend()\n",
    "plt.show()"
   ]
  },
  {
   "cell_type": "code",
   "execution_count": null,
   "metadata": {},
   "outputs": [],
   "source": []
  }
 ],
 "metadata": {
  "kernelspec": {
   "display_name": "Python 3",
   "language": "python",
   "name": "python3"
  },
  "language_info": {
   "codemirror_mode": {
    "name": "ipython",
    "version": 3
   },
   "file_extension": ".py",
   "mimetype": "text/x-python",
   "name": "python",
   "nbconvert_exporter": "python",
   "pygments_lexer": "ipython3",
   "version": "3.7.4"
  }
 },
 "nbformat": 4,
 "nbformat_minor": 2
}
