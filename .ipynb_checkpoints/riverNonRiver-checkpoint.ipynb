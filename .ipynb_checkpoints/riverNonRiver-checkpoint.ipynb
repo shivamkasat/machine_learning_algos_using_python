{
 "cells": [
  {
   "cell_type": "code",
   "execution_count": 1,
   "metadata": {},
   "outputs": [
    {
     "data": {
      "text/plain": [
       "<Figure size 640x480 with 1 Axes>"
      ]
     },
     "metadata": {},
     "output_type": "display_data"
    },
    {
     "name": "stdout",
     "output_type": "stream",
     "text": [
      "100\n"
     ]
    }
   ],
   "source": [
    "#Import required libraries\n",
    "from matplotlib import pyplot as plt\n",
    "from matplotlib.image import imread\n",
    "import numpy as np\n",
    "from numpy.linalg import inv\n",
    "\n",
    "\n",
    "# image dataset path\n",
    "path = '/home/kasat/softComputing/riverAssign/'\n",
    "\n",
    "test_data = np.ndarray(shape=(512,512,4), dtype=np.integer)\n",
    "\n",
    "for i in range(4):\n",
    "    img = plt.imread(path + str(i+1)+'.gif')\n",
    "    # copying images to the training array\n",
    "    test_data[:,:,i] = np.array(img[:,:,0])\n",
    "\n",
    "# plotting the training images\n",
    "plt.imshow(test_data)\n",
    "plt.show()\n",
    "\n",
    "#sample points .112\n",
    "x_river = [159,158,153,154,163,167,171,217,160,213,173,163,185,216,159,162,186,170,\n",
    "          150,159,186,211,164,218,228,156,179,151,173,145,185,186,181,213,159,208,\n",
    "          158,191,224,218,178,170,183,171,218,214,218,151,158,225]\n",
    "\n",
    "y_river = [6,38,16,7,30,129,166,292,32,287,127,159,254,286,156,156,233,461,\n",
    "          12,45,229,347,47,324,322,16,120,6,457,19,233,232,228,282,18,292,\n",
    "          20,247,314,344,120,34,233,128,351,287,280,7,9,313]\n",
    "\n",
    "x_n_river = [230,216,489,311,120,137,417,302,89,427,369,88,79,476,70,316,48,394,\n",
    "           32,448,416,360,287,91,31,293,92,418,68,344,428,55,294,53,380,371,\n",
    "           486,238,446,131,125,308,312,311,275,359,132,210,457,246,299,360,421,493,\n",
    "           236,375,392,48,478,254,427,57,445,448,50,404,392,424,451,379,359,269,\n",
    "           147,412,236,337,232,362,479,475,306,91,462,275,468,102,306,237,338,405,\n",
    "           264,410,220,106,389,110,247,391,63,433]\n",
    "\n",
    "y_n_river = [83,214,163,85,402,430,307,49,436,425,244,374,227,43,296,70,118,366,\n",
    "           411,215,113,333,24,235,383,109,402,444,261,420,245,438,149,416,245,66,\n",
    "           18,55,411,226,271,100,336,208,253,444,387,123,340,108,334,365,375,445,\n",
    "           158,355,377,233,75,441,103,404,308,313,96,83,49,173,185,406,458,460,\n",
    "           253,464,98,478,471,327,240,489,239,425,452,65,173,441,478,149,475,90,\n",
    "           289,198,150,168,147,95,457,93,414,197]\n",
    "\n",
    "print(len(y_n_river))\n",
    "\n"
   ]
  },
  {
   "cell_type": "code",
   "execution_count": 2,
   "metadata": {},
   "outputs": [
    {
     "name": "stdout",
     "output_type": "stream",
     "text": [
      "(50, 4)\n"
     ]
    }
   ],
   "source": [
    "\n",
    "Test1=[0,0,0,0]\n",
    "river_mean=np.ndarray(shape=(50,4))\n",
    "for i in range(len(x_river)):\n",
    "    for j in range(4):\n",
    "        Test1[j] = Test1[j] + test_data[x_river[i], y_river[i],j]\n",
    "    \n",
    "for i in range(4):\n",
    "    Test1[i] = Test1[i]/50\n",
    "\n",
    "for i in range(50):\n",
    "    river_mean[i] = np.subtract(test_data[x_river[i],y_river[i],:],Test1)\n",
    "\n",
    "print(river_mean.shape)\n",
    "\n",
    "\n"
   ]
  },
  {
   "cell_type": "code",
   "execution_count": 3,
   "metadata": {},
   "outputs": [
    {
     "name": "stdout",
     "output_type": "stream",
     "text": [
      "(100, 4)\n"
     ]
    }
   ],
   "source": [
    "Test2=[0,0,0,0]\n",
    "non_river_mean=np.ndarray(shape=(100,4))\n",
    "for i in range(len(x_n_river)):\n",
    "    for j in range(4):\n",
    "        Test2[j] = Test2[j] + test_data[x_n_river[i], y_n_river[i],j]\n",
    "    \n",
    "for i in range(4):\n",
    "    Test2[i] = Test2[i]/100\n",
    "\n",
    "for i in range(len(x_n_river)):\n",
    "    non_river_mean[i] = np.subtract(test_data[x_n_river[i],y_n_river[i],:],Test1)\n",
    "\n",
    "print(non_river_mean.shape)\n",
    "\n",
    "\n"
   ]
  },
  {
   "cell_type": "code",
   "execution_count": 4,
   "metadata": {},
   "outputs": [
    {
     "name": "stdout",
     "output_type": "stream",
     "text": [
      "Covariance of River class\n",
      "[[ 4.3364  4.1016  5.9504 -1.7028]\n",
      " [ 4.1016  4.9104  6.8576 -0.6232]\n",
      " [ 5.9504  6.8576 15.5344  2.5592]\n",
      " [-1.7028 -0.6232  2.5592 34.3556]]\n",
      "\n",
      "Covariance of Non-river class\n",
      "[[ 7.558   6.5896  9.4242  3.571 ]\n",
      " [ 6.5896  6.8568  9.2284  5.7788]\n",
      " [ 9.4242  9.2284 17.2844  6.4286]\n",
      " [ 3.571   5.7788  6.4286 35.094 ]]\n"
     ]
    }
   ],
   "source": [
    "# covariance matrices\n",
    "\n",
    "cov_river = np.ndarray(shape=(4, 4), dtype=np.float64)\n",
    "cov_n_river = np.ndarray(shape=(4, 4), dtype=np.float64)\n",
    "\n",
    "for i in range(4):\n",
    "    for j in range(4):\n",
    "        cov_river[i][j]=np.dot(river_mean[:,i],river_mean[:,j])/len(x_river)\n",
    "        \n",
    "print('Covariance of River class')\n",
    "print(cov_river)\n",
    "\n",
    "for i in range(4):\n",
    "    for j in range(4):\n",
    "        cov_n_river[i][j]=np.dot(non_river_mean[:,i],non_river_mean[:,j])/len(x_n_river)\n",
    "print('\\nCovariance of Non-river class')\n",
    "print(cov_n_river)\n",
    "\n",
    "inverse_cov_river = inv(cov_river)\n",
    "inverse_cov_n_river = inv(cov_n_river)\n",
    "\n"
   ]
  },
  {
   "cell_type": "code",
   "execution_count": 5,
   "metadata": {},
   "outputs": [],
   "source": [
    "#calculate p1 and p2 using covariance and class\n",
    "def cal(i,j):\n",
    "    r = np.subtract(test_data[i,j,:],Test1)\n",
    "    nr = np.subtract(test_data[i,j,:],Test2)\n",
    "\n",
    "    river_class = np.dot(np.dot(r.T,inverse_cov_river), r)\n",
    "\n",
    "    non_river_class = np.dot(np.dot(nr.T,inverse_cov_n_river), nr)\n",
    "    \n",
    "    # density functions\n",
    "\n",
    "    det_cov_r = np.linalg.det(cov_river)\n",
    "    p1 = (-0.5) * 1/np.sqrt(det_cov_r) * np.exp(river_class);\n",
    "\n",
    "    det_cov_nr = np.linalg.det(cov_n_river)\n",
    "    p2 = (-0.5) * 1/np.sqrt(det_cov_nr) * np.exp(non_river_class);\n",
    "    return p1,p2\n",
    "\n"
   ]
  },
  {
   "cell_type": "code",
   "execution_count": 6,
   "metadata": {},
   "outputs": [
    {
     "name": "stdout",
     "output_type": "stream",
     "text": [
      "Accuracy 93.03665161132812 %\n"
     ]
    },
    {
     "data": {
      "image/png": "[encoded data removed]",
      "text/plain": [
       "<Figure size 432x288 with 1 Axes>"
      ]
     },
     "metadata": {},
     "output_type": "display_data"
    }
   ],
   "source": [
    "#classify the probability\n",
    "def naive_bayes(P1, P2):\n",
    "    out_image=np.ndarray(shape=(512, 512), dtype = np.integer)\n",
    "    for i in range(512):\n",
    "        for j in range(512):\n",
    "            p1,p2 = cal(i,j)\n",
    "            if((P1 * p1) >= (P2 * p2)):\n",
    "                out_image[i,j]=255\n",
    "            else:\n",
    "                out_image[i,j]=0\n",
    "                \n",
    "    return out_image\n",
    "\n",
    "sample_out_img = plt.imread('/home/kasat/softComputing/riverAssign/PDCV1.jpeg')\n",
    "out_image1 = naive_bayes(P1=0.75,P2=0.25)\n",
    "\n",
    "count=0\n",
    "for i in range(512):\n",
    "    for j in range(512):\n",
    "        if sample_out_img[i,j]==out_image1[i,j]:\n",
    "            count = count+1\n",
    "print('Accuracy',count*100/(512*512),'%')\n",
    "\n",
    "plt.subplot(1,1,1)\n",
    "plt.imshow(out_image1, cmap='gray')\n",
    "plt.tick_params(labelleft=False, labelbottom=False, bottom=False,top=False,right=False,left=False, which='both')\n",
    "plt.subplots_adjust(right=1.2, top=2.5)\n",
    "plt.show()\n",
    "\n",
    "\n"
   ]
  },
  {
   "cell_type": "code",
   "execution_count": 7,
   "metadata": {},
   "outputs": [
    {
     "name": "stdout",
     "output_type": "stream",
     "text": [
      "Accuracy for 0.0 : 2.5402069091796875 %\n",
      "Accuracy for 0.1 : 21.15936279296875 %\n",
      "Accuracy for 0.2 : 33.383941650390625 %\n",
      "Accuracy for 0.3 : 52.330780029296875 %\n",
      "Accuracy for 0.4 : 68.43185424804688 %\n",
      "Accuracy for 0.5 : 79.86717224121094 %\n",
      "Accuracy for 0.6 : 87.33558654785156 %\n",
      "Accuracy for 0.7 : 91.55998229980469 %\n",
      "Accuracy for 0.8 : 94.24247741699219 %\n",
      "Accuracy for 0.9 : 95.9991455078125 %\n",
      "Accuracy for 1.0 : 95.14427185058594 %\n"
     ]
    },
    {
     "data": {
      "text/plain": [
       "Text(0.5, 1.0, 'Accuracy vs. P1')"
      ]
     },
     "execution_count": 7,
     "metadata": {},
     "output_type": "execute_result"
    },
    {
     "data": {
      "image/png": "[encoded data removed]",
      "text/plain": [
       "<Figure size 432x288 with 1 Axes>"
      ]
     },
     "metadata": {
      "needs_background": "light"
     },
     "output_type": "display_data"
    }
   ],
   "source": [
    "accuracy = np.zeros(11)\n",
    "it=[0.0,0.1,0.2,0.3,0.4,0.5,0.6,0.7,0.8,0.9,1.0]\n",
    "\n",
    "for k,item in enumerate(it):\n",
    "    x = naive_bayes(P1=item,P2=(1-item))\n",
    "    count=0\n",
    "    for i in range(512):\n",
    "        for j in range(512):\n",
    "            if sample_out_img[i,j]==x[i,j]:\n",
    "                count = count+1\n",
    "    accuracy[k] = count*100/(512*512)\n",
    "    print('Accuracy for',item,\":\",accuracy[k],'%')\n",
    "    \n",
    "fig, axi = plt.subplots()  \n",
    "axi.plot(np.arange(11), accuracy, 'b')  \n",
    "axi.set_xlabel('Value of P1')  \n",
    "axi.set_ylabel('Accuracy')  \n",
    "axi.set_title('Accuracy vs. P1')"
   ]
  },
  {
   "cell_type": "code",
   "execution_count": null,
   "metadata": {},
   "outputs": [],
   "source": []
  }
 ],
 "metadata": {
  "kernelspec": {
   "display_name": "Python 3",
   "language": "python",
   "name": "python3"
  },
  "language_info": {
   "codemirror_mode": {
    "name": "ipython",
    "version": 3
   },
   "file_extension": ".py",
   "mimetype": "text/x-python",
   "name": "python",
   "nbconvert_exporter": "python",
   "pygments_lexer": "ipython3",
   "version": "3.7.4"
  }
 },
 "nbformat": 4,
 "nbformat_minor": 2
}
