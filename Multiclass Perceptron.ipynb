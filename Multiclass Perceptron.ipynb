{
 "cells": [
  {
   "cell_type": "code",
   "execution_count": 1,
   "metadata": {},
   "outputs": [],
   "source": [
    "import pandas as pd\n",
    "import numpy as np\n",
    "import matplotlib.pyplot as plt"
   ]
  },
  {
   "cell_type": "code",
   "execution_count": 2,
   "metadata": {},
   "outputs": [
    {
     "data": {
      "text/html": [
       "<div>\n",
       "<style scoped>\n",
       "    .dataframe tbody tr th:only-of-type {\n",
       "        vertical-align: middle;\n",
       "    }\n",
       "\n",
       "    .dataframe tbody tr th {\n",
       "        vertical-align: top;\n",
       "    }\n",
       "\n",
       "    .dataframe thead th {\n",
       "        text-align: right;\n",
       "    }\n",
       "</style>\n",
       "<table border=\"1\" class=\"dataframe\">\n",
       "  <thead>\n",
       "    <tr style=\"text-align: right;\">\n",
       "      <th></th>\n",
       "      <th>sepal_length</th>\n",
       "      <th>sepal_width</th>\n",
       "      <th>petal_length</th>\n",
       "      <th>petal_width</th>\n",
       "      <th>species</th>\n",
       "    </tr>\n",
       "  </thead>\n",
       "  <tbody>\n",
       "    <tr>\n",
       "      <th>0</th>\n",
       "      <td>5.1</td>\n",
       "      <td>3.5</td>\n",
       "      <td>1.4</td>\n",
       "      <td>0.2</td>\n",
       "      <td>setosa</td>\n",
       "    </tr>\n",
       "    <tr>\n",
       "      <th>1</th>\n",
       "      <td>4.9</td>\n",
       "      <td>3.0</td>\n",
       "      <td>1.4</td>\n",
       "      <td>0.2</td>\n",
       "      <td>setosa</td>\n",
       "    </tr>\n",
       "    <tr>\n",
       "      <th>2</th>\n",
       "      <td>4.7</td>\n",
       "      <td>3.2</td>\n",
       "      <td>1.3</td>\n",
       "      <td>0.2</td>\n",
       "      <td>setosa</td>\n",
       "    </tr>\n",
       "    <tr>\n",
       "      <th>3</th>\n",
       "      <td>4.6</td>\n",
       "      <td>3.1</td>\n",
       "      <td>1.5</td>\n",
       "      <td>0.2</td>\n",
       "      <td>setosa</td>\n",
       "    </tr>\n",
       "    <tr>\n",
       "      <th>4</th>\n",
       "      <td>5.0</td>\n",
       "      <td>3.6</td>\n",
       "      <td>1.4</td>\n",
       "      <td>0.2</td>\n",
       "      <td>setosa</td>\n",
       "    </tr>\n",
       "  </tbody>\n",
       "</table>\n",
       "</div>"
      ],
      "text/plain": [
       "   sepal_length  sepal_width  petal_length  petal_width species\n",
       "0           5.1          3.5           1.4          0.2  setosa\n",
       "1           4.9          3.0           1.4          0.2  setosa\n",
       "2           4.7          3.2           1.3          0.2  setosa\n",
       "3           4.6          3.1           1.5          0.2  setosa\n",
       "4           5.0          3.6           1.4          0.2  setosa"
      ]
     },
     "execution_count": 2,
     "metadata": {},
     "output_type": "execute_result"
    }
   ],
   "source": [
    "data = pd.read_csv('/home/kasat/iris.csv')\n",
    "data.head()"
   ]
  },
  {
   "cell_type": "code",
   "execution_count": 3,
   "metadata": {},
   "outputs": [],
   "source": [
    "# for i in range(len(data)):\n",
    "#     if data.loc[i][4] == 'setosa':\n",
    "#         data.loc[i][4] = 0\n",
    "#     if data.loc[i][0] == 'versicolor':\n",
    "#         data.loc[i][4] = 1\n",
    "#     if data.loc[i][4] == 'virginica':\n",
    "#         data.loc[i][4] = 2\n",
    "        \n",
    "# data.head()        "
   ]
  },
  {
   "cell_type": "code",
   "execution_count": 4,
   "metadata": {},
   "outputs": [],
   "source": [
    "new_data=np.array(data)\n",
    "\n",
    "for i in range(new_data.shape[0]):\n",
    "    if new_data[i][4] =='setosa':\n",
    "        new_data[i][4] = 0\n",
    "    if new_data[i][4] =='versicolor':\n",
    "        new_data[i][4] = 1\n",
    "    if new_data[i][4] =='virginica':\n",
    "        new_data[i][4] = 2\n",
    "\n",
    "#randomise the dataset\n",
    "np.random.shuffle(new_data)\n",
    "#new_data\n",
    "\n",
    "new_data = np.insert(new_data, 0, values=1, axis=1)\n"
   ]
  },
  {
   "cell_type": "code",
   "execution_count": 5,
   "metadata": {},
   "outputs": [],
   "source": [
    "from sklearn.model_selection import train_test_split  \n",
    "x_train, x_test = train_test_split(new_data, test_size=0.20,random_state=0)\n",
    "\n",
    "y_train = np.array(x_train)\n",
    "y_train = y_train[:,[5]]\n",
    "y_test = np.array(x_test)\n",
    "y_test = y_test[:,[5]]\n",
    "\n",
    "x_train = np.delete(x_train, 5, 1)\n",
    "x_test = np.delete(x_test,5,1)"
   ]
  },
  {
   "cell_type": "code",
   "execution_count": 6,
   "metadata": {},
   "outputs": [],
   "source": [
    "w = [[0,0,0,0,0],[0,0,0,0,0],[0,0,0,0,0]]\n",
    "N = 100\n",
    "error = []"
   ]
  },
  {
   "cell_type": "code",
   "execution_count": null,
   "metadata": {},
   "outputs": [],
   "source": [
    "                          "
   ]
  },
  {
   "cell_type": "code",
   "execution_count": 7,
   "metadata": {},
   "outputs": [],
   "source": [
    "def prediction(x_test,theta):\n",
    "    predictions = []\n",
    "    for i in range(0,x_test.shape[0]):\n",
    "        a = np.dot(x_test[i],theta[0])\n",
    "        b = np.dot(x_test[i],theta[1])\n",
    "        c = np.dot(x_test[i],theta[2])\n",
    "        if max(a,b,c) == a:\n",
    "            predictions.append(0)\n",
    "        if max(a,b,c) == b:\n",
    "            predictions.append(1)\n",
    "        if max(a,b,c) == c:\n",
    "            predictions.append(2)\n",
    "    return predictions"
   ]
  },
  {
   "cell_type": "code",
   "execution_count": 8,
   "metadata": {},
   "outputs": [],
   "source": [
    "def accuracy(predicted,y_test):\n",
    "    count = 0\n",
    "    for i in range(y_test.shape[0]):\n",
    "        if predicted[i] == y_test[i]:\n",
    "            count = count + 1\n",
    "    print()\n",
    "    acc = (count/len(y_test))\n",
    "    return 1 - acc"
   ]
  },
  {
   "cell_type": "code",
   "execution_count": 9,
   "metadata": {},
   "outputs": [],
   "source": [
    "def multi_class_perceptron(x_train,y_train,w,N):\n",
    "    for n in range(N):\n",
    "        for i in range(len(x_train)):\n",
    "            a = np.dot(w[0],x_train[i])\n",
    "            b = np.dot(w[1],x_train[i])\n",
    "            c = np.dot(w[2],x_train[i])\n",
    "            if max(a,b,c) == a:\n",
    "                if y_train[i] != 0:\n",
    "                    w[0] = w[0] - x_train[i]\n",
    "                    if y_train[i] == 1:\n",
    "                        w[1] = w[1] + x_train[i]\n",
    "                    if y_train[i] == 2:\n",
    "                        w[2] = w[2] + x_train[i]\n",
    "            if max(a,b,c) == b:\n",
    "                 if y_train[i] != 1:\n",
    "                        w[1] = w[1] - x_train[i]\n",
    "                        if y_train[i] == 0:\n",
    "                            w[0] = w[0] + x_train[i]\n",
    "                        if y_train[i] == 2:\n",
    "                            w[2] = w[2] + x_train[i]\n",
    "            if max(a,b,c) == c:\n",
    "                if y_train[i] != 2:\n",
    "                        w[2] = w[2] - x_train[i]\n",
    "                        if y_train[i] == 0:\n",
    "                            w[0] = w[0] + x_train[i]\n",
    "                        if y_train[i] ==  1:\n",
    "                            w[1] = w[1] + x_train[i]\n",
    "        predicted = prediction(x_train,w)\n",
    "        err = accuracy(predicted,y_train)\n",
    "        error.append(err)\n",
    "    return w   "
   ]
  },
  {
   "cell_type": "code",
   "execution_count": 10,
   "metadata": {},
   "outputs": [
    {
     "name": "stdout",
     "output_type": "stream",
     "text": [
      "\n",
      "\n",
      "\n",
      "\n",
      "\n",
      "\n",
      "\n",
      "\n",
      "\n",
      "\n",
      "\n",
      "\n",
      "\n",
      "\n",
      "\n",
      "\n",
      "\n",
      "\n",
      "\n",
      "\n",
      "\n",
      "\n",
      "\n",
      "\n",
      "\n",
      "\n",
      "\n",
      "\n",
      "\n",
      "\n",
      "\n",
      "\n",
      "\n",
      "\n",
      "\n",
      "\n",
      "\n",
      "\n",
      "\n",
      "\n",
      "\n",
      "\n",
      "\n",
      "\n",
      "\n",
      "\n",
      "\n",
      "\n",
      "\n",
      "\n",
      "\n",
      "\n",
      "\n",
      "\n",
      "\n",
      "\n",
      "\n",
      "\n",
      "\n",
      "\n",
      "\n",
      "\n",
      "\n",
      "\n",
      "\n",
      "\n",
      "\n",
      "\n",
      "\n",
      "\n",
      "\n",
      "\n",
      "\n",
      "\n",
      "\n",
      "\n",
      "\n",
      "\n",
      "\n",
      "\n",
      "\n",
      "\n",
      "\n",
      "\n",
      "\n",
      "\n",
      "\n",
      "\n",
      "\n",
      "\n",
      "\n",
      "\n",
      "\n",
      "\n",
      "\n",
      "\n",
      "\n",
      "\n",
      "\n",
      "\n",
      "[[17 37.099999999999994 69.80000000000003 -93.49999999999997\n",
      "  -49.299999999999976]\n",
      " [50 31.899999999999995 14.49999999999996 -14.100000000000096\n",
      "  -96.99999999999974]\n",
      " [-67 -68.99999999999993 -84.30000000000015 107.60000000000038\n",
      "  146.30000000000072]]\n"
     ]
    }
   ],
   "source": [
    "pred = np.array(multi_class_perceptron(x_train,y_train,w,N))\n",
    "print(pred)"
   ]
  },
  {
   "cell_type": "code",
   "execution_count": 11,
   "metadata": {},
   "outputs": [
    {
     "data": {
      "text/plain": [
       "[<matplotlib.lines.Line2D at 0x7f276ea40450>]"
      ]
     },
     "execution_count": 11,
     "metadata": {},
     "output_type": "execute_result"
    },
    {
     "data": {
      "image/png": "[encoded data removed]",
      "text/plain": [
       "<Figure size 432x288 with 1 Axes>"
      ]
     },
     "metadata": {
      "needs_background": "light"
     },
     "output_type": "display_data"
    }
   ],
   "source": [
    "predicted = prediction(x_test,pred)\n",
    "\n",
    "plt.plot(range(N), error)"
   ]
  },
  {
   "cell_type": "code",
   "execution_count": null,
   "metadata": {},
   "outputs": [],
   "source": []
  }
 ],
 "metadata": {
  "kernelspec": {
   "display_name": "Python 3",
   "language": "python",
   "name": "python3"
  },
  "language_info": {
   "codemirror_mode": {
    "name": "ipython",
    "version": 3
   },
   "file_extension": ".py",
   "mimetype": "text/x-python",
   "name": "python",
   "nbconvert_exporter": "python",
   "pygments_lexer": "ipython3",
   "version": "3.7.4"
  }
 },
 "nbformat": 4,
 "nbformat_minor": 2
}
